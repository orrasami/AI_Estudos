{
  "nbformat": 4,
  "nbformat_minor": 0,
  "metadata": {
    "colab": {
      "provenance": [],
      "authorship_tag": "ABX9TyMIhxBlor2J2iaf1+VIsv90",
      "include_colab_link": true
    },
    "kernelspec": {
      "name": "python3",
      "display_name": "Python 3"
    },
    "language_info": {
      "name": "python"
    }
  },
  "cells": [
    {
      "cell_type": "markdown",
      "metadata": {
        "id": "view-in-github",
        "colab_type": "text"
      },
      "source": [
        "<a href=\"https://colab.research.google.com/github/orrasami/Embedding/blob/main/Sharepoint_docx_download.ipynb\" target=\"_parent\"><img src=\"https://colab.research.google.com/assets/colab-badge.svg\" alt=\"Open In Colab\"/></a>"
      ]
    },
    {
      "cell_type": "code",
      "source": [
        "!pip install -q -U environ\n",
        "!pip install -q -U Office365-REST-Python-Client\n",
        "!pip install -q -U certifi cffi charset-normalizer cryptography django-environ et-xmlfile idna msal openpyxl pycparser PyJWT pytz requests urllib3"
      ],
      "metadata": {
        "colab": {
          "base_uri": "https://localhost:8080/"
        },
        "id": "SWRXMlQHSJLO",
        "outputId": "eeda4d46-169a-4cbf-9859-8a68d78638f8"
      },
      "execution_count": null,
      "outputs": [
        {
          "output_type": "stream",
          "name": "stdout",
          "text": [
            "  Preparing metadata (setup.py) ... \u001b[?25l\u001b[?25hdone\n",
            "  Building wheel for environ (setup.py) ... \u001b[?25l\u001b[?25hdone\n",
            "\u001b[2K     \u001b[90m━━━━━━━━━━━━━━━━━━━━━━━━━━━━━━━━━━━━━━━━\u001b[0m \u001b[32m1.2/1.2 MB\u001b[0m \u001b[31m10.2 MB/s\u001b[0m eta \u001b[36m0:00:00\u001b[0m\n",
            "\u001b[2K     \u001b[90m━━━━━━━━━━━━━━━━━━━━━━━━━━━━━━━━━━━━━━━━\u001b[0m \u001b[32m102.2/102.2 kB\u001b[0m \u001b[31m10.5 MB/s\u001b[0m eta \u001b[36m0:00:00\u001b[0m\n",
            "\u001b[2K     \u001b[90m━━━━━━━━━━━━━━━━━━━━━━━━━━━━━━━━━━━━━━━━\u001b[0m \u001b[32m505.5/505.5 kB\u001b[0m \u001b[31m8.8 MB/s\u001b[0m eta \u001b[36m0:00:00\u001b[0m\n",
            "\u001b[2K     \u001b[90m━━━━━━━━━━━━━━━━━━━━━━━━━━━━━━━━━━━━━━━━\u001b[0m \u001b[32m121.1/121.1 kB\u001b[0m \u001b[31m16.1 MB/s\u001b[0m eta \u001b[36m0:00:00\u001b[0m\n",
            "\u001b[?25h"
          ]
        }
      ]
    },
    {
      "cell_type": "code",
      "source": [
        "!pip install -q -U python-docx"
      ],
      "metadata": {
        "colab": {
          "base_uri": "https://localhost:8080/"
        },
        "id": "F4vzmBgCwb_8",
        "outputId": "e67a22ea-7b67-45f2-a5a0-80536e707f88"
      },
      "execution_count": null,
      "outputs": [
        {
          "output_type": "stream",
          "name": "stdout",
          "text": [
            "\u001b[?25l     \u001b[90m━━━━━━━━━━━━━━━━━━━━━━━━━━━━━━━━━━━━━━━━\u001b[0m \u001b[32m0.0/244.3 kB\u001b[0m \u001b[31m?\u001b[0m eta \u001b[36m-:--:--\u001b[0m\r\u001b[2K     \u001b[91m━━━━━━━━━━━━━━━\u001b[0m\u001b[90m╺\u001b[0m\u001b[90m━━━━━━━━━━━━━━━━━━━━━━━━\u001b[0m \u001b[32m92.2/244.3 kB\u001b[0m \u001b[31m2.7 MB/s\u001b[0m eta \u001b[36m0:00:01\u001b[0m\r\u001b[2K     \u001b[90m━━━━━━━━━━━━━━━━━━━━━━━━━━━━━━━━━━━━━━━━\u001b[0m \u001b[32m244.3/244.3 kB\u001b[0m \u001b[31m4.1 MB/s\u001b[0m eta \u001b[36m0:00:00\u001b[0m\n",
            "\u001b[?25h"
          ]
        }
      ]
    },
    {
      "cell_type": "code",
      "execution_count": null,
      "metadata": {
        "id": "xw2x1TslRVnw"
      },
      "outputs": [],
      "source": [
        "import environ\n",
        "from office365.sharepoint.client_context import ClientContext\n",
        "from office365.runtime.auth.user_credential import UserCredential\n",
        "from office365.sharepoint.files.file import File\n",
        "import datetime\n",
        "from io import BytesIO\n",
        "from docx import Document"
      ]
    },
    {
      "cell_type": "code",
      "source": [
        "USERNAME = \"sami@inaflex.com.br\"\n",
        "PASSWORD = \"Inf_Rav#M365_2023\"\n",
        "SHAREPOINT_SITE = \"https://inaflexcombr.sharepoint.com/sites/S_Qualidade\"\n",
        "SHAREPOINT_SITE_NAME = \"S_Qualidade\"\n",
        "SHAREPOINT_DOC = \"Shared Documents\"\n",
        "folder_name = \"General/2. INSTRUÇÕES DE TRABALHO/1. INSTRUÇÃO DE TRABALHO\"\n",
        "file_name = \"IT-0001 REV.06 - PREPARAÇÃO DE MANGUEIRA COMPOSTA.docx\""
      ],
      "metadata": {
        "id": "Gc_mXOQXUV07"
      },
      "execution_count": null,
      "outputs": []
    },
    {
      "cell_type": "code",
      "source": [
        "conn = ClientContext(SHAREPOINT_SITE).with_credentials(\n",
        "    UserCredential(\n",
        "        USERNAME,\n",
        "        PASSWORD\n",
        "        )\n",
        "    )"
      ],
      "metadata": {
        "id": "OrcxPZDRrh6M"
      },
      "execution_count": null,
      "outputs": []
    },
    {
      "cell_type": "code",
      "source": [
        "file_url = f'/sites/{SHAREPOINT_SITE_NAME}/{SHAREPOINT_DOC}/{folder_name}/{file_name}'\n",
        "file_url"
      ],
      "metadata": {
        "colab": {
          "base_uri": "https://localhost:8080/",
          "height": 35
        },
        "id": "uy_8oJcjrznM",
        "outputId": "72998343-3064-4e2b-e7c1-0ab65facf689"
      },
      "execution_count": null,
      "outputs": [
        {
          "output_type": "execute_result",
          "data": {
            "text/plain": [
              "'/sites/S_Qualidade/Shared Documents/General/2. INSTRUÇÕES DE TRABALHO/1. INSTRUÇÃO DE TRABALHO/IT-0001 REV.06 - PREPARAÇÃO DE MANGUEIRA COMPOSTA.docx'"
            ],
            "application/vnd.google.colaboratory.intrinsic+json": {
              "type": "string"
            }
          },
          "metadata": {},
          "execution_count": 46
        }
      ]
    },
    {
      "cell_type": "code",
      "source": [
        "file = File.open_binary(conn, file_url)"
      ],
      "metadata": {
        "id": "zHaAQYR-y3h0"
      },
      "execution_count": null,
      "outputs": []
    },
    {
      "cell_type": "code",
      "source": [
        "doc = Document(BytesIO(file.content))\n",
        "doc"
      ],
      "metadata": {
        "colab": {
          "base_uri": "https://localhost:8080/"
        },
        "id": "ytkasiwCu4Gr",
        "outputId": "9ff5468a-3a33-4d96-bf6c-e51c48937016"
      },
      "execution_count": null,
      "outputs": [
        {
          "output_type": "execute_result",
          "data": {
            "text/plain": [
              "<docx.document.Document at 0x790bc51ab7f0>"
            ]
          },
          "metadata": {},
          "execution_count": 49
        }
      ]
    },
    {
      "cell_type": "code",
      "source": [
        "full_text = []\n",
        "for paragraph in doc.paragraphs:\n",
        "    full_text.append(paragraph.text)\n",
        "print('\\n'.join(full_text))"
      ],
      "metadata": {
        "colab": {
          "base_uri": "https://localhost:8080/"
        },
        "id": "E4OuTKBoyHaX",
        "outputId": "ff760481-67e9-4c92-8d8e-43d75e7dcae7"
      },
      "execution_count": null,
      "outputs": [
        {
          "output_type": "stream",
          "name": "stdout",
          "text": [
            "PREPARAÇÃO DE MANGUEIRA COMPOSTA\n",
            "\n",
            "Esse procedimento tem por objetivo definir a boa prática para preparação de mangueira composta para montagem.\n",
            "\n",
            "Avaliação da O.P. e separação dos materiais.\n",
            "Pegar as O.P. junto com os terminais.\n",
            "Verificar se os terminais e luvas correspondem ao solicitado na O.P. \n",
            "Verificar se número do lote de rastreabilidade da O.P. está de acordo com material a ser utilizado.\n",
            "Separar a mangueira conforme indicado na O.P. de acordo com o lote informado na mesma.\n",
            "\n",
            "Jateamento de terminais\n",
            "Todos os terminais de Inox devem estar jateados conforme (IT-0077)\n",
            "Todos os terminais de Carbono devem estar jateados conforme (IT-0077)\n",
            "\n",
            "Nota: É responsabilidade do montador, inspecionar e segregar os terminais caso necessário que não estiverem jateados de acordo com a (IT-0077)\n",
            "\n",
            "Preparação da mangueira.\n",
            "\n",
            "Medir e cortar a mangueira no comprimento especificado na O.P. caso a O.P. especificar montagem de mangueiras de “Ponta a Ponta” deve-se considerar o corte de acordo com os critérios demonstrados na IT-0058. \n",
            "\n",
            "Tolerância de -1% a +2% do comprimento total.\n",
            "\n",
            "Para a realização do corte deve-se promover o travamento o arame externo com FITA ESPARADRAPO INDUSTRIAL.\n",
            "O corte da mangueira deve ser uniforme e perpendicular ao eixo da mangueira, caso necessário pequenos cortes na circunferência são permitidos para garantir a uniformidade do corte.\n",
            "\n",
            "Para , deve-se:\n",
            "Remover um trecho de aproximadamente meia volta do arame externo.\n",
            "Remover um trecho de aproximadamente 1 volta do arame interno, garantindo que o arame interno fique aproximadamente 180° do arame externo.\n",
            "\n",
            "\n",
            "\n",
            "\n",
            "\n",
            "\n",
            "\n",
            "\n",
            "\n",
            "\n",
            "\n",
            "\n",
            "\n",
            "\n",
            "\n",
            "\n",
            "\n",
            "\n",
            "\n",
            "\n",
            "\n",
            "\n",
            "\n",
            "\n",
            " tecidos, filme, película ou cintas longitudinais conforme foto abaixo.\n",
            "\n",
            "  \n",
            "\n",
            "Para mangueira com arame interno revestido, após o corte do arame, como descrito no item 3.3 desse procedimento, deve-se promover a retirada do revestimento do arame por aproximadamente ¼” do perímetro da mangueira.\n",
            "\n",
            "\n",
            "\n",
            "\n",
            "\n",
            "\n",
            "Para mangueiras que possuem cordoalha é necessário a realização de um corte próximo a cobertura para que seja providenciado a fixação de uma cordoalha  conforme foto abaixo. \n",
            "\n",
            "   \n",
            "\t\n",
            "\n",
            "\n",
            "\n",
            "\n",
            "\n",
            "\n",
            "\n",
            "\n",
            "\n",
            "\n",
            "\n",
            "\n",
            "\n",
            "\n",
            "\n",
            "Realizar o ajuste da luva com o corpo da mangueira de forma que a luva entre na mangueira com interferência para isso os seguintes processos podem ser usados:\n",
            "\n",
            "Fita esparadrapo industrial caso a quantidade de camadas seja superior a 4 camadas deve-se utilizar uma ou mais camadas de tecido de nylon com objetivo de diminuir a quantidade de fitas esparadrapo.\n",
            "\n",
            "Ajuste com compressão da luva caso seja possível para mangueiras com diâmetro até 4”,  caso o processo de compressão da luva para ajuste seja realizado deve-se dimensionar o diâmetro da boca da luva de acordo com o dimensional informado no desenho de fabricação. \n",
            "Caso a mangueira possua um diâmetro externo maior do que o diâmetro interno da luva o processo de abertura da luva é permitido, no entanto deve-se dimensionar o diâmetro da boca da luva de acordo com o dimensional informado no desenho de fabricação.\n",
            "\n",
            "Nota: Ao identificar qualquer dificuldade para a realização do ajuste entre a luva e o corpo da mangueira o departamento técnico deve ser informado para que se avalie o processo.\n",
            "\n",
            "Para montagem de mangueiras OILFLEX LIGHT DUTY DE 4” COM ENGATES INA-C OU INA-E DE AÇO CARBONO OU INOX (Pressão de trabalho: 150lbs / Pressão de teste: 225 lbs).\n",
            "\n",
            "As mangueiras OILFLEX LIGHT DUTY possuem espessura de parede menor que as demais mangueiras. Por isso é importante seguir os passos abaixo para montar mangueiras OILFLEX LIGHT DUTY com ENGATES INA-C OU INA-E DE AÇO CARBONO OU INOX que serão destinadas a trabalhar com 150lbs / Pressão de teste: 225 lbs.\n",
            "\n",
            "Ao aplicar a fita esparadrapo na ponta da mangueira durante a preparação, a quantidade de fita não deve exceder 4 voltas.\n",
            "\n",
            "Nota: Tal recomendação se dá para que a luva seja comprimida sobre uma região estável.\n",
            "A adição de varias camadas de fita prejudica a estabilidade da região de compressão e faz com que a arame externo seja torcido e que a compactação não seja uniforme.\n",
            "\n",
            "\n",
            "\n",
            "\n",
            "Após aplicar a fita esparadrapo, em quantidade que não exceda 4 voltar, deve-se fazer o teste de ajuste da luva. Caso a luva tenha folga em relação à mangueira, deve-se comprimir a luva utilizando a castanha de 4” com diâmetro: 122,5 mm. Após o ajuste deve-se testar a luva novamente e certificar-se que a luva esteja entrando justa na mangueira.\n",
            "\n",
            "Concluída a fase de preparação da mangueira e ajuste da luva, deve-se aplicar 1 volta de tecido de NYLON no espigão do engate que será montado (INA-E ou INA-C) conforme as etapas abaixo:\n",
            "\n",
            "CORTAR UM TIRA DE TECIDO DE NYLON COM LARGURA IGUAL AO COPRIMENTO DO ESPIGÃO E COMPRIMENTO EQUIVALEMTE A 1 VOLTA;\n",
            "APLICAR RESINA NO ESPIGÃO;\n",
            "APLICAR O TECIDO DE NYLON SOBRE O ESPIGÃO (JÁ COM RESINA).\n",
            "SOBRE O TECIDO DE NYLON, APLICAR 1 VOLTA DE ESPARADRADO COM ESPAÇAMENTO DE APROXIMADAMENTE 20 MM SOBRE O TECIDO DE NYLON.\n",
            "COLOCAR CORDOALHA DO ARAME EXTERNO PARA CONTINUIDADE ELÉTRICA.\n",
            "Nota: O espigão será revestido com 1 volta de TECIDO DE NYLON, o que poderá isolar o espigão do arame interno, por isso a continuidade elétrica será promovida apenas pelo arame externo.\n",
            "APLICAR RESINA NO DIAMETRO EXTERNO DA MANGUEIRA E ENCAIXAR A LUVA.\n",
            "APLICAR RESINA SOBRE O ESPIGÃO REVESTIDO COM NYLON E FITA ESPARADRAPO E ENCAIXAR O ENGATE.\n",
            "LEVAR A MANGUEIRA ATÉ A MÁQUINA, GARANTIR QUE ESTEJA POSICIONADA “RETA” E ENTÃO PROCEDER COM A MONTAGEM. \n",
            "INICIAR A OPERAÇÃO DE COMPRESSÃO COM A CASTANHA DE 4” _ DIÂMETRO: 120,5 MM,\n",
            "APÓS A PRIMEIRA COMPRESSÃO, GIRAR A MANGUEIRA 90° E COMPRIMIR UTILIZANDO A CASTANHA DE 118,5 MM.\n",
            "LIMPAR A MANGUEIRA E AVALIAR SE A MONTAGEM NÃO CAUSOU INCLINAÇÃO DA CONEXÃO. \n",
            "\n",
            "Nota: O tópico 3.7 deste procedimento foi desenvolvido para mangueiras OILFLEX LIGHT DUTY DE 4”, caso ocorra a necessidade de montar mangueiras OILFLEX LIGHT DUTY de diâmetros inferiores, por favor, informe o Depto. Técnico. \n",
            "\n",
            "\n",
            "\n",
            "\n",
            "\n",
            "\n",
            "\n",
            "\n",
            "\n",
            "\n",
            "\n",
            "\n",
            "\n",
            "\n",
            "\n",
            "\n",
            "\n",
            "\n",
            "CAMPO DE REVISÕES:\n",
            "\n",
            "\n",
            "\n",
            "\n",
            "Caso seja identificado qualquer dificuldade para seguir esse procedimento o departamento Técnico/Qualidade deve ser informado imediatamente.\n"
          ]
        }
      ]
    }
  ]
}